{
 "cells": [
  {
   "cell_type": "code",
   "execution_count": 1,
   "id": "2f29ee55",
   "metadata": {},
   "outputs": [],
   "source": [
    "import gensim\n",
    "from gensim.models import Word2Vec\n",
    "from nltk.tokenize import word_tokenize\n",
    "import nltk\n",
    "import numpy as np\n",
    "import pickle\n",
    "import json\n",
    "from sklearn.metrics import f1_score\n",
    "from sklearn.metrics.pairwise import cosine_similarity"
   ]
  },
  {
   "cell_type": "code",
   "execution_count": 2,
   "id": "9b0fef9c",
   "metadata": {},
   "outputs": [],
   "source": [
    "class word2vec:\n",
    "    def __init__(self, X, tokenizer, vector_size=100, window=5, min_count=2, sg=1, sample=1e-3, workers=4):\n",
    "        self.X_tokenized = [tokenizer(doc.lower()) for doc in X]\n",
    "        self.model = Word2Vec(sentences=self.X_tokenized, vector_size=vector_size, window=window, min_count=min_count, workers=workers,sg=sg, sample=sample)\n",
    "        \n",
    "    def classify(self, seed_words):\n",
    "        label_representations = {}\n",
    "        for label, seeds in seed_words.items():\n",
    "            label_representations[label] = np.mean([self.model.wv[word] for word in seeds if word in self.model.wv], axis=0)\n",
    "\n",
    "        document_labels = []\n",
    "\n",
    "        for doc in self.X_tokenized:\n",
    "            doc_representation = np.mean([self.model.wv[word] for word in doc if word in self.model.wv], axis=0)\n",
    "            similarities = {label: cosine_similarity([doc_representation], [label_vec])[0][0] for label, label_vec in label_representations.items()}\n",
    "            document_labels.append(max(similarities, key=similarities.get))\n",
    "        \n",
    "        return document_labels"
   ]
  },
  {
   "cell_type": "markdown",
   "id": "7dacf923",
   "metadata": {},
   "source": [
    "## Word2Vec on 20 Newsgroup Dataset (Coarse)"
   ]
  },
  {
   "cell_type": "code",
   "execution_count": 3,
   "id": "4fa5159f",
   "metadata": {},
   "outputs": [],
   "source": [
    "# 20 Newsgroup Dataset (Coarse)\n",
    "with open(\"data/20news/coarse/df.pkl\", \"rb\") as file:\n",
    "    data = pickle.load(file)\n",
    "with open(\"data/20news/coarse/seedwords.json\", \"rb\") as file:\n",
    "    seedwords = json.load(file)"
   ]
  },
  {
   "cell_type": "code",
   "execution_count": 4,
   "id": "9c23afef",
   "metadata": {},
   "outputs": [],
   "source": [
    "X = data[\"sentence\"]\n",
    "y = data[\"label\"]"
   ]
  },
  {
   "cell_type": "code",
   "execution_count": 5,
   "id": "ad9f254a",
   "metadata": {},
   "outputs": [],
   "source": [
    "tokenizer = word_tokenize\n",
    "classifier = word2vec(X, tokenizer, vector_size=100, window=10, min_count=2)"
   ]
  },
  {
   "cell_type": "code",
   "execution_count": 6,
   "id": "61d167a8",
   "metadata": {},
   "outputs": [],
   "source": [
    "pred = classifier.classify(seedwords)"
   ]
  },
  {
   "cell_type": "code",
   "execution_count": 7,
   "id": "8f2ab007",
   "metadata": {},
   "outputs": [
    {
     "name": "stdout",
     "output_type": "stream",
     "text": [
      "F1_score (macro) using without hyperparameter tuning: 0.37498671637034997\n",
      "F1_score (micro) using without hyperparameter tuning: 0.5533161728462676\n"
     ]
    }
   ],
   "source": [
    "f1_macro = f1_score(y,pred,average='macro')\n",
    "f1_micro = f1_score(y,pred,average='micro')\n",
    "print(f\"F1_score (macro) using without hyperparameter tuning: {f1_macro}\")\n",
    "print(f\"F1_score (micro) using without hyperparameter tuning: {f1_micro}\")"
   ]
  },
  {
   "cell_type": "markdown",
   "id": "3d050b1f",
   "metadata": {},
   "source": [
    "## Word2Vec on 20 Newsgroup Dataset (Fine)"
   ]
  },
  {
   "cell_type": "code",
   "execution_count": 11,
   "id": "c7852cbe",
   "metadata": {},
   "outputs": [],
   "source": [
    "# 20 Newsgroup Dataset (Fine)\n",
    "with open(\"data/20news/fine/df.pkl\", \"rb\") as file:\n",
    "    data = pickle.load(file)\n",
    "with open(\"data/20news/fine/seedwords.json\", \"rb\") as file:\n",
    "    seedwords = json.load(file)"
   ]
  },
  {
   "cell_type": "code",
   "execution_count": 12,
   "id": "abee45e8",
   "metadata": {},
   "outputs": [],
   "source": [
    "X = data[\"sentence\"]\n",
    "y = data[\"label\"]"
   ]
  },
  {
   "cell_type": "code",
   "execution_count": 8,
   "id": "bb4988b0",
   "metadata": {},
   "outputs": [],
   "source": [
    "tokenizer = word_tokenize\n",
    "classifier = word2vec(X, tokenizer, vector_size=300, window=15, min_count=2)"
   ]
  },
  {
   "cell_type": "code",
   "execution_count": 9,
   "id": "64930740",
   "metadata": {},
   "outputs": [],
   "source": [
    "pred = classifier.classify(seedwords)"
   ]
  },
  {
   "cell_type": "code",
   "execution_count": 10,
   "id": "a13db3a7",
   "metadata": {},
   "outputs": [
    {
     "name": "stdout",
     "output_type": "stream",
     "text": [
      "F1_score (macro) using without hyperparameter tuning: 0.37203862430346085\n",
      "F1_score (micro) using without hyperparameter tuning: 0.48589736568267705\n"
     ]
    }
   ],
   "source": [
    "f1_macro = f1_score(y,pred,average='macro')\n",
    "f1_micro = f1_score(y,pred,average='micro')\n",
    "print(f\"F1_score (macro) using without hyperparameter tuning: {f1_macro}\")\n",
    "print(f\"F1_score (micro) using without hyperparameter tuning: {f1_micro}\")"
   ]
  },
  {
   "cell_type": "markdown",
   "id": "4e054b75",
   "metadata": {},
   "source": [
    "## Word2Vec on NYT Dataset (Coarse)"
   ]
  },
  {
   "cell_type": "code",
   "execution_count": 30,
   "id": "db164e47",
   "metadata": {},
   "outputs": [],
   "source": [
    "# NYT Dataset (Coarse)\n",
    "with open(\"data/nyt/coarse/df.pkl\", \"rb\") as file:\n",
    "    data = pickle.load(file)\n",
    "with open(\"data/nyt/coarse/seedwords.json\", \"rb\") as file:\n",
    "    seedwords = json.load(file)"
   ]
  },
  {
   "cell_type": "code",
   "execution_count": 31,
   "id": "ed782f56",
   "metadata": {},
   "outputs": [],
   "source": [
    "X = data[\"sentence\"]\n",
    "y = data[\"label\"]"
   ]
  },
  {
   "cell_type": "code",
   "execution_count": 50,
   "id": "93c5f972",
   "metadata": {},
   "outputs": [],
   "source": [
    "tokenizer = word_tokenize\n",
    "classifier = word2vec(X, tokenizer, vector_size=350, window=20, min_count=3, workers=15, sg=0)"
   ]
  },
  {
   "cell_type": "code",
   "execution_count": 51,
   "id": "ac3a03ce",
   "metadata": {},
   "outputs": [],
   "source": [
    "pred = classifier.classify(seedwords)"
   ]
  },
  {
   "cell_type": "code",
   "execution_count": 52,
   "id": "a4f1b936",
   "metadata": {},
   "outputs": [
    {
     "name": "stdout",
     "output_type": "stream",
     "text": [
      "F1_score (macro) using without hyperparameter tuning: 0.6779590738069426\n",
      "F1_score (micro) using without hyperparameter tuning: 0.903704346317342\n"
     ]
    }
   ],
   "source": [
    "f1_macro = f1_score(y,pred,average='macro')\n",
    "f1_micro = f1_score(y,pred,average='micro')\n",
    "print(f\"F1_score (macro) using without hyperparameter tuning: {f1_macro}\")\n",
    "print(f\"F1_score (micro) using without hyperparameter tuning: {f1_micro}\")"
   ]
  },
  {
   "cell_type": "markdown",
   "id": "5e838bbb",
   "metadata": {},
   "source": [
    "## IR-TF-IDF on NYT Dataset (Fine)\n"
   ]
  },
  {
   "cell_type": "code",
   "execution_count": 3,
   "id": "90e03c60",
   "metadata": {},
   "outputs": [],
   "source": [
    "# NYT Dataset (Fine)\n",
    "with open(\"data/nyt/fine/df.pkl\", \"rb\") as file:\n",
    "    data = pickle.load(file)\n",
    "with open(\"data/nyt/fine/seedwords.json\", \"rb\") as file:\n",
    "    seedwords = json.load(file)"
   ]
  },
  {
   "cell_type": "code",
   "execution_count": 4,
   "id": "580d84c4",
   "metadata": {},
   "outputs": [],
   "source": [
    "X = data[\"sentence\"]\n",
    "y = data[\"label\"]"
   ]
  },
  {
   "cell_type": "code",
   "execution_count": 9,
   "id": "703a5730",
   "metadata": {},
   "outputs": [],
   "source": [
    "tokenizer = word_tokenize\n",
    "classifier = word2vec(X, tokenizer, vector_size=350, window=20, min_count=3, workers=15, sg=0)"
   ]
  },
  {
   "cell_type": "code",
   "execution_count": 10,
   "id": "ae9597f7",
   "metadata": {},
   "outputs": [],
   "source": [
    "pred = classifier.classify(seedwords)"
   ]
  },
  {
   "cell_type": "code",
   "execution_count": 11,
   "id": "0b14950a",
   "metadata": {},
   "outputs": [
    {
     "name": "stdout",
     "output_type": "stream",
     "text": [
      "F1_score (macro) using without hyperparameter tuning: 0.4610761956145217\n",
      "F1_score (micro) using without hyperparameter tuning: 0.6508198143489199\n"
     ]
    }
   ],
   "source": [
    "f1_macro = f1_score(y,pred,average='macro')\n",
    "f1_micro = f1_score(y,pred,average='micro')\n",
    "print(f\"F1_score (macro) using without hyperparameter tuning: {f1_macro}\")\n",
    "print(f\"F1_score (micro) using without hyperparameter tuning: {f1_micro}\")"
   ]
  },
  {
   "cell_type": "code",
   "execution_count": null,
   "id": "6aae1397",
   "metadata": {},
   "outputs": [],
   "source": []
  }
 ],
 "metadata": {
  "kernelspec": {
   "display_name": "Python 3 (ipykernel)",
   "language": "python",
   "name": "python3"
  },
  "language_info": {
   "codemirror_mode": {
    "name": "ipython",
    "version": 3
   },
   "file_extension": ".py",
   "mimetype": "text/x-python",
   "name": "python",
   "nbconvert_exporter": "python",
   "pygments_lexer": "ipython3",
   "version": "3.9.5"
  }
 },
 "nbformat": 4,
 "nbformat_minor": 5
}
